{
 "cells": [
  {
   "cell_type": "code",
   "execution_count": 1,
   "metadata": {},
   "outputs": [
    {
     "name": "stderr",
     "output_type": "stream",
     "text": [
      "[nltk_data] Downloading package stopwords to\n",
      "[nltk_data]     C:\\Users\\eshom\\AppData\\Roaming\\nltk_data...\n",
      "[nltk_data]   Package stopwords is already up-to-date!\n"
     ]
    },
    {
     "data": {
      "application/javascript": [
       "\n",
       "            setTimeout(function() {\n",
       "                var nbb_cell_id = 1;\n",
       "                var nbb_unformatted_code = \"# importing dependencies here\\nimport tweepy\\nimport pandas as pd\\nimport matplotlib.pyplot as plt\\n\\nimport nltk\\nfrom nltk.stem import WordNetLemmatizer\\nfrom nltk.corpus import stopwords\\n\\nnltk.download(\\\"stopwords\\\")\\n\\nfrom wordcloud import WordCloud, STOPWORDS\\nfrom textblob import TextBlob\\n\\n# sentiment scoring\\n# from vaderSentiment.vaderSentiment import SentimentIntensityAnalyzer\\n\\nimport re\\nimport time\\n\\nimport wget\\n\\n# code formatter\\n%load_ext nb_black\";\n",
       "                var nbb_formatted_code = \"# importing dependencies here\\nimport tweepy\\nimport pandas as pd\\nimport matplotlib.pyplot as plt\\n\\nimport nltk\\nfrom nltk.stem import WordNetLemmatizer\\nfrom nltk.corpus import stopwords\\n\\nnltk.download(\\\"stopwords\\\")\\n\\nfrom wordcloud import WordCloud, STOPWORDS\\nfrom textblob import TextBlob\\n\\n# sentiment scoring\\n# from vaderSentiment.vaderSentiment import SentimentIntensityAnalyzer\\n\\nimport re\\nimport time\\n\\nimport wget\\n\\n# code formatter\\n%load_ext nb_black\";\n",
       "                var nbb_cells = Jupyter.notebook.get_cells();\n",
       "                for (var i = 0; i < nbb_cells.length; ++i) {\n",
       "                    if (nbb_cells[i].input_prompt_number == nbb_cell_id) {\n",
       "                        if (nbb_cells[i].get_text() == nbb_unformatted_code) {\n",
       "                             nbb_cells[i].set_text(nbb_formatted_code);\n",
       "                        }\n",
       "                        break;\n",
       "                    }\n",
       "                }\n",
       "            }, 500);\n",
       "            "
      ],
      "text/plain": [
       "<IPython.core.display.Javascript object>"
      ]
     },
     "metadata": {},
     "output_type": "display_data"
    }
   ],
   "source": [
    "# importing dependencies here\n",
    "import tweepy\n",
    "import pandas as pd\n",
    "import matplotlib.pyplot as plt\n",
    "\n",
    "import nltk\n",
    "from nltk.stem import WordNetLemmatizer\n",
    "from nltk.corpus import stopwords\n",
    "\n",
    "nltk.download(\"stopwords\")\n",
    "\n",
    "from wordcloud import WordCloud, STOPWORDS\n",
    "from textblob import TextBlob\n",
    "\n",
    "import re\n",
    "import time\n",
    "\n",
    "import wget\n",
    "\n",
    "# code formatter\n",
    "%load_ext nb_black"
   ]
  },
  {
   "cell_type": "code",
   "execution_count": 2,
   "metadata": {},
   "outputs": [
    {
     "data": {
      "application/javascript": [
       "\n",
       "            setTimeout(function() {\n",
       "                var nbb_cell_id = 2;\n",
       "                var nbb_unformatted_code = \"# validating the credentials\\nconsumer_key = \\\"qrF9FtzNrMRfzj4uq1Fo0529P\\\"\\nconsumer_secret = \\\"fdtSQWeZUY4qio1vNaI5bHBcNEKvz56sUKulR8BwAQGRTR26py\\\"\\naccess_token = \\\"1274071812608069634-TvlIhWcEa7q25lpKimQ1gHeb1yfo9G\\\"\\naccess_token_secret = \\\"KoRwfT1j3LeXJpiTEWMAe2o9eDAhsTaBC1UFD7fD1D80a\\\"\";\n",
       "                var nbb_formatted_code = \"# validating the credentials\\nconsumer_key = \\\"qrF9FtzNrMRfzj4uq1Fo0529P\\\"\\nconsumer_secret = \\\"fdtSQWeZUY4qio1vNaI5bHBcNEKvz56sUKulR8BwAQGRTR26py\\\"\\naccess_token = \\\"1274071812608069634-TvlIhWcEa7q25lpKimQ1gHeb1yfo9G\\\"\\naccess_token_secret = \\\"KoRwfT1j3LeXJpiTEWMAe2o9eDAhsTaBC1UFD7fD1D80a\\\"\";\n",
       "                var nbb_cells = Jupyter.notebook.get_cells();\n",
       "                for (var i = 0; i < nbb_cells.length; ++i) {\n",
       "                    if (nbb_cells[i].input_prompt_number == nbb_cell_id) {\n",
       "                        if (nbb_cells[i].get_text() == nbb_unformatted_code) {\n",
       "                             nbb_cells[i].set_text(nbb_formatted_code);\n",
       "                        }\n",
       "                        break;\n",
       "                    }\n",
       "                }\n",
       "            }, 500);\n",
       "            "
      ],
      "text/plain": [
       "<IPython.core.display.Javascript object>"
      ]
     },
     "metadata": {},
     "output_type": "display_data"
    }
   ],
   "source": [
    "# validating the credentials\n",
    "consumer_key = \"XXXXX\"\n",
    "consumer_secret = \"XXXXX\"\n",
    "access_token = \"XXXXX\"\n",
    "access_token_secret = \"XXXXX\""
   ]
  },
  {
   "cell_type": "code",
   "execution_count": 3,
   "metadata": {},
   "outputs": [
    {
     "data": {
      "application/javascript": [
       "\n",
       "            setTimeout(function() {\n",
       "                var nbb_cell_id = 3;\n",
       "                var nbb_unformatted_code = \"# creating the authentication object, setting access token and creating the api object\\nauth = tweepy.OAuthHandler(consumer_key, consumer_secret)\\nauth.set_access_token(access_token, access_token_secret)\\napi = tweepy.API(auth, wait_on_rate_limit=True)\";\n",
       "                var nbb_formatted_code = \"# creating the authentication object, setting access token and creating the api object\\nauth = tweepy.OAuthHandler(consumer_key, consumer_secret)\\nauth.set_access_token(access_token, access_token_secret)\\napi = tweepy.API(auth, wait_on_rate_limit=True)\";\n",
       "                var nbb_cells = Jupyter.notebook.get_cells();\n",
       "                for (var i = 0; i < nbb_cells.length; ++i) {\n",
       "                    if (nbb_cells[i].input_prompt_number == nbb_cell_id) {\n",
       "                        if (nbb_cells[i].get_text() == nbb_unformatted_code) {\n",
       "                             nbb_cells[i].set_text(nbb_formatted_code);\n",
       "                        }\n",
       "                        break;\n",
       "                    }\n",
       "                }\n",
       "            }, 500);\n",
       "            "
      ],
      "text/plain": [
       "<IPython.core.display.Javascript object>"
      ]
     },
     "metadata": {},
     "output_type": "display_data"
    }
   ],
   "source": [
    "# creating the authentication object, setting access token and creating the api object\n",
    "auth = tweepy.OAuthHandler(consumer_key, consumer_secret)\n",
    "auth.set_access_token(access_token, access_token_secret)\n",
    "api = tweepy.API(auth, wait_on_rate_limit=True)"
   ]
  },
  {
   "cell_type": "code",
   "execution_count": 4,
   "metadata": {},
   "outputs": [
    {
     "name": "stdout",
     "output_type": "stream",
     "text": [
      "Sushant Singh Rajput\n",
      "Photon in a double-slit 💥\n"
     ]
    },
    {
     "data": {
      "application/javascript": [
       "\n",
       "            setTimeout(function() {\n",
       "                var nbb_cell_id = 4;\n",
       "                var nbb_unformatted_code = \"# reading the last 50 tweets\\ntweets_list = []\\n\\nusername = \\\"itsssr\\\"\\n# username = \\\"esharma_3\\\"\\ntweet_count = 50\\nimg_url = \\\"\\\"\\nscreen_name = \\\"\\\"\\n\\n# accessing last 50 tweets one at a time and adding them to a list\\ntry:\\n    for tweet in api.user_timeline(\\n        id=username, count=tweet_count, tweet_mode=\\\"extended\\\"\\n    ):\\n        tweets_dict = {}\\n        tweets_dict[\\\"date_created\\\"] = tweet.created_at\\n        tweets_dict[\\\"tweet_id\\\"] = tweet.id\\n        tweets_dict[\\\"tweet\\\"] = tweet.full_text\\n\\n        tweets_list.append(tweets_dict)\\n\\n    #     tweets.append((tweet.created_at, tweet.id, tweet.text))\\n    screen_name = tweet.user.name\\n    print(screen_name)\\n    url = tweet.user.description\\n    print(url)\\n    img_url = tweet.user.profile_image_url\\nexcept BaseException as e:\\n    print(\\\"Failed to retrieve the tweet.\\\", str(e))\\n    time.sleep(3)\";\n",
       "                var nbb_formatted_code = \"# reading the last 50 tweets\\ntweets_list = []\\n\\nusername = \\\"itsssr\\\"\\n# username = \\\"esharma_3\\\"\\ntweet_count = 50\\nimg_url = \\\"\\\"\\nscreen_name = \\\"\\\"\\n\\n# accessing last 50 tweets one at a time and adding them to a list\\ntry:\\n    for tweet in api.user_timeline(\\n        id=username, count=tweet_count, tweet_mode=\\\"extended\\\"\\n    ):\\n        tweets_dict = {}\\n        tweets_dict[\\\"date_created\\\"] = tweet.created_at\\n        tweets_dict[\\\"tweet_id\\\"] = tweet.id\\n        tweets_dict[\\\"tweet\\\"] = tweet.full_text\\n\\n        tweets_list.append(tweets_dict)\\n\\n    #     tweets.append((tweet.created_at, tweet.id, tweet.text))\\n    screen_name = tweet.user.name\\n    print(screen_name)\\n    url = tweet.user.description\\n    print(url)\\n    img_url = tweet.user.profile_image_url\\nexcept BaseException as e:\\n    print(\\\"Failed to retrieve the tweet.\\\", str(e))\\n    time.sleep(3)\";\n",
       "                var nbb_cells = Jupyter.notebook.get_cells();\n",
       "                for (var i = 0; i < nbb_cells.length; ++i) {\n",
       "                    if (nbb_cells[i].input_prompt_number == nbb_cell_id) {\n",
       "                        if (nbb_cells[i].get_text() == nbb_unformatted_code) {\n",
       "                             nbb_cells[i].set_text(nbb_formatted_code);\n",
       "                        }\n",
       "                        break;\n",
       "                    }\n",
       "                }\n",
       "            }, 500);\n",
       "            "
      ],
      "text/plain": [
       "<IPython.core.display.Javascript object>"
      ]
     },
     "metadata": {},
     "output_type": "display_data"
    }
   ],
   "source": [
    "# reading the last 50 tweets\n",
    "tweets_list = []\n",
    "\n",
    "username = \"itsssr\"\n",
    "# username = \"esharma_3\"\n",
    "tweet_count = 50\n",
    "img_url = \"\"\n",
    "screen_name = \"\"\n",
    "\n",
    "# accessing last 50 tweets one at a time and adding them to a list\n",
    "try:\n",
    "    for tweet in api.user_timeline(\n",
    "        id=username, count=tweet_count, tweet_mode=\"extended\"\n",
    "    ):\n",
    "        tweets_dict = {}\n",
    "        tweets_dict[\"date_created\"] = tweet.created_at\n",
    "        tweets_dict[\"tweet_id\"] = tweet.id\n",
    "        tweets_dict[\"tweet\"] = tweet.full_text\n",
    "\n",
    "        tweets_list.append(tweets_dict)\n",
    "\n",
    "    #     tweets.append((tweet.created_at, tweet.id, tweet.text))\n",
    "    screen_name = tweet.user.name\n",
    "    print(screen_name)\n",
    "    url = tweet.user.description\n",
    "    print(url)\n",
    "    img_url = tweet.user.profile_image_url\n",
    "except BaseException as e:\n",
    "    print(\"Failed to retrieve the tweet.\", str(e))\n",
    "    time.sleep(3)"
   ]
  },
  {
   "cell_type": "code",
   "execution_count": 5,
   "metadata": {},
   "outputs": [
    {
     "name": "stdout",
     "output_type": "stream",
     "text": [
      "\r",
      "  0% [                                                                                ]    0 / 2263\r",
      "100% [................................................................................] 2263 / 2263"
     ]
    },
    {
     "data": {
      "application/javascript": [
       "\n",
       "            setTimeout(function() {\n",
       "                var nbb_cell_id = 5;\n",
       "                var nbb_unformatted_code = \"filename = wget.download(img_url)\";\n",
       "                var nbb_formatted_code = \"filename = wget.download(img_url)\";\n",
       "                var nbb_cells = Jupyter.notebook.get_cells();\n",
       "                for (var i = 0; i < nbb_cells.length; ++i) {\n",
       "                    if (nbb_cells[i].input_prompt_number == nbb_cell_id) {\n",
       "                        if (nbb_cells[i].get_text() == nbb_unformatted_code) {\n",
       "                             nbb_cells[i].set_text(nbb_formatted_code);\n",
       "                        }\n",
       "                        break;\n",
       "                    }\n",
       "                }\n",
       "            }, 500);\n",
       "            "
      ],
      "text/plain": [
       "<IPython.core.display.Javascript object>"
      ]
     },
     "metadata": {},
     "output_type": "display_data"
    }
   ],
   "source": [
    "filename = wget.download(img_url)"
   ]
  },
  {
   "cell_type": "code",
   "execution_count": 6,
   "metadata": {},
   "outputs": [
    {
     "data": {
      "application/javascript": [
       "\n",
       "            setTimeout(function() {\n",
       "                var nbb_cell_id = 6;\n",
       "                var nbb_unformatted_code = \"# adding the retrieved tweet data into a dataframe\\ntweet_df = pd.DataFrame([tweet for tweet in tweets_list])\";\n",
       "                var nbb_formatted_code = \"# adding the retrieved tweet data into a dataframe\\ntweet_df = pd.DataFrame([tweet for tweet in tweets_list])\";\n",
       "                var nbb_cells = Jupyter.notebook.get_cells();\n",
       "                for (var i = 0; i < nbb_cells.length; ++i) {\n",
       "                    if (nbb_cells[i].input_prompt_number == nbb_cell_id) {\n",
       "                        if (nbb_cells[i].get_text() == nbb_unformatted_code) {\n",
       "                             nbb_cells[i].set_text(nbb_formatted_code);\n",
       "                        }\n",
       "                        break;\n",
       "                    }\n",
       "                }\n",
       "            }, 500);\n",
       "            "
      ],
      "text/plain": [
       "<IPython.core.display.Javascript object>"
      ]
     },
     "metadata": {},
     "output_type": "display_data"
    }
   ],
   "source": [
    "# adding the retrieved tweet data into a dataframe\n",
    "tweet_df = pd.DataFrame([tweet for tweet in tweets_list])"
   ]
  },
  {
   "cell_type": "code",
   "execution_count": 7,
   "metadata": {},
   "outputs": [
    {
     "data": {
      "text/html": [
       "<div>\n",
       "<style scoped>\n",
       "    .dataframe tbody tr th:only-of-type {\n",
       "        vertical-align: middle;\n",
       "    }\n",
       "\n",
       "    .dataframe tbody tr th {\n",
       "        vertical-align: top;\n",
       "    }\n",
       "\n",
       "    .dataframe thead th {\n",
       "        text-align: right;\n",
       "    }\n",
       "</style>\n",
       "<table border=\"1\" class=\"dataframe\">\n",
       "  <thead>\n",
       "    <tr style=\"text-align: right;\">\n",
       "      <th></th>\n",
       "      <th>date_created</th>\n",
       "      <th>tweet_id</th>\n",
       "      <th>tweet</th>\n",
       "    </tr>\n",
       "  </thead>\n",
       "  <tbody>\n",
       "    <tr>\n",
       "      <th>0</th>\n",
       "      <td>2019-12-27 17:05:44</td>\n",
       "      <td>1210607708312920065</td>\n",
       "      <td>Right from exploring the local tourist attract...</td>\n",
       "    </tr>\n",
       "    <tr>\n",
       "      <th>1</th>\n",
       "      <td>2019-12-11 11:30:18</td>\n",
       "      <td>1204725090690248704</td>\n",
       "      <td>\"Best wishes to all the retail employees for b...</td>\n",
       "    </tr>\n",
       "    <tr>\n",
       "      <th>2</th>\n",
       "      <td>2019-11-19 09:01:57</td>\n",
       "      <td>1196715220502110209</td>\n",
       "      <td>Men have emotions too so don't be shy to cry. ...</td>\n",
       "    </tr>\n",
       "    <tr>\n",
       "      <th>3</th>\n",
       "      <td>2019-10-31 12:49:56</td>\n",
       "      <td>1189887224596189189</td>\n",
       "      <td>RT @Tarunmansukhani: Partners in crime and sty...</td>\n",
       "    </tr>\n",
       "    <tr>\n",
       "      <th>4</th>\n",
       "      <td>2019-10-28 04:35:03</td>\n",
       "      <td>1188675522978570241</td>\n",
       "      <td>Thank you so much @HTBrunch for making one of ...</td>\n",
       "    </tr>\n",
       "  </tbody>\n",
       "</table>\n",
       "</div>"
      ],
      "text/plain": [
       "         date_created             tweet_id  \\\n",
       "0 2019-12-27 17:05:44  1210607708312920065   \n",
       "1 2019-12-11 11:30:18  1204725090690248704   \n",
       "2 2019-11-19 09:01:57  1196715220502110209   \n",
       "3 2019-10-31 12:49:56  1189887224596189189   \n",
       "4 2019-10-28 04:35:03  1188675522978570241   \n",
       "\n",
       "                                               tweet  \n",
       "0  Right from exploring the local tourist attract...  \n",
       "1  \"Best wishes to all the retail employees for b...  \n",
       "2  Men have emotions too so don't be shy to cry. ...  \n",
       "3  RT @Tarunmansukhani: Partners in crime and sty...  \n",
       "4  Thank you so much @HTBrunch for making one of ...  "
      ]
     },
     "execution_count": 7,
     "metadata": {},
     "output_type": "execute_result"
    },
    {
     "data": {
      "application/javascript": [
       "\n",
       "            setTimeout(function() {\n",
       "                var nbb_cell_id = 7;\n",
       "                var nbb_unformatted_code = \"tweet_df.head()\";\n",
       "                var nbb_formatted_code = \"tweet_df.head()\";\n",
       "                var nbb_cells = Jupyter.notebook.get_cells();\n",
       "                for (var i = 0; i < nbb_cells.length; ++i) {\n",
       "                    if (nbb_cells[i].input_prompt_number == nbb_cell_id) {\n",
       "                        if (nbb_cells[i].get_text() == nbb_unformatted_code) {\n",
       "                             nbb_cells[i].set_text(nbb_formatted_code);\n",
       "                        }\n",
       "                        break;\n",
       "                    }\n",
       "                }\n",
       "            }, 500);\n",
       "            "
      ],
      "text/plain": [
       "<IPython.core.display.Javascript object>"
      ]
     },
     "metadata": {},
     "output_type": "display_data"
    }
   ],
   "source": [
    "tweet_df.head()"
   ]
  },
  {
   "cell_type": "markdown",
   "metadata": {},
   "source": [
    "### Preparing Tweets for Analysis"
   ]
  },
  {
   "cell_type": "code",
   "execution_count": 8,
   "metadata": {},
   "outputs": [
    {
     "data": {
      "application/javascript": [
       "\n",
       "            setTimeout(function() {\n",
       "                var nbb_cell_id = 8;\n",
       "                var nbb_unformatted_code = \"# cleaning\\n\\nextra_stopwords = [\\\"The\\\", \\\"It\\\", \\\"it\\\"]\\n\\ndef prep_data(tweet):\\n    \\n    # cleaning the data   \\n#     tweet = tweet.lower()\\n    tweet = re.sub(\\\"https?:\\\\/\\\\/\\\\S+\\\", \\\"\\\", tweet) # replacing url with domain name\\n    tweet = re.sub(\\\"#[A-Za-z0\\u20139]+\\\", \\\" \\\", tweet) # removing #mentions\\n    tweet = re.sub(\\\"#\\\", \\\" \\\", tweet) # removing hash tag \\n    tweet = re.sub(\\\"\\\\n\\\", \\\" \\\", tweet) # removing \\\\n \\n    tweet = re.sub(\\\"@[A-Za-z0\\u20139]+\\\", \\\"\\\", tweet) # removing @mentions\\n    tweet = re.sub(\\\"RT : \\\", \\\"\\\", tweet) #Removing RT\\n    tweet = re.sub(\\\"\\\\b[a-zA-Z]{1,2}\\\\b\\\", \\\"\\\", tweet) # removing 1-2 char long words\\n    tweet = re.sub('\\\\w*\\\\d\\\\w*', \\\"\\\", tweet) # removing words containing digits\\n    \\n    for word in extra_stopwords:\\n        tweet = tweet.replace(word, \\\"\\\")\\n\\n    # lemmitizing\\n    lemmatizer = WordNetLemmatizer()\\n    new_s = \\\"\\\"\\n    for word in tweet.split(\\\" \\\"):\\n        lemmatizer.lemmatize(word)\\n        if word not in stopwords.words(\\\"english\\\"):\\n            new_s += word + \\\" \\\"\\n\\n    return new_s[:-1]\";\n",
       "                var nbb_formatted_code = \"# cleaning\\n\\nextra_stopwords = [\\\"The\\\", \\\"It\\\", \\\"it\\\"]\\n\\n\\ndef prep_data(tweet):\\n\\n    # cleaning the data\\n    #     tweet = tweet.lower()\\n    tweet = re.sub(\\\"https?:\\\\/\\\\/\\\\S+\\\", \\\"\\\", tweet)  # replacing url with domain name\\n    tweet = re.sub(\\\"#[A-Za-z0\\u20139]+\\\", \\\" \\\", tweet)  # removing #mentions\\n    tweet = re.sub(\\\"#\\\", \\\" \\\", tweet)  # removing hash tag\\n    tweet = re.sub(\\\"\\\\n\\\", \\\" \\\", tweet)  # removing \\\\n\\n    tweet = re.sub(\\\"@[A-Za-z0\\u20139]+\\\", \\\"\\\", tweet)  # removing @mentions\\n    tweet = re.sub(\\\"RT : \\\", \\\"\\\", tweet)  # Removing RT\\n    tweet = re.sub(\\\"\\\\b[a-zA-Z]{1,2}\\\\b\\\", \\\"\\\", tweet)  # removing 1-2 char long words\\n    tweet = re.sub(\\\"\\\\w*\\\\d\\\\w*\\\", \\\"\\\", tweet)  # removing words containing digits\\n\\n    for word in extra_stopwords:\\n        tweet = tweet.replace(word, \\\"\\\")\\n\\n    # lemmitizing\\n    lemmatizer = WordNetLemmatizer()\\n    new_s = \\\"\\\"\\n    for word in tweet.split(\\\" \\\"):\\n        lemmatizer.lemmatize(word)\\n        if word not in stopwords.words(\\\"english\\\"):\\n            new_s += word + \\\" \\\"\\n\\n    return new_s[:-1]\";\n",
       "                var nbb_cells = Jupyter.notebook.get_cells();\n",
       "                for (var i = 0; i < nbb_cells.length; ++i) {\n",
       "                    if (nbb_cells[i].input_prompt_number == nbb_cell_id) {\n",
       "                        if (nbb_cells[i].get_text() == nbb_unformatted_code) {\n",
       "                             nbb_cells[i].set_text(nbb_formatted_code);\n",
       "                        }\n",
       "                        break;\n",
       "                    }\n",
       "                }\n",
       "            }, 500);\n",
       "            "
      ],
      "text/plain": [
       "<IPython.core.display.Javascript object>"
      ]
     },
     "metadata": {},
     "output_type": "display_data"
    }
   ],
   "source": [
    "# cleaning\n",
    "\n",
    "extra_stopwords = [\"The\", \"It\", \"it\"]\n",
    "\n",
    "def prep_data(tweet):\n",
    "    \n",
    "    # cleaning the data   \n",
    "#     tweet = tweet.lower()\n",
    "    tweet = re.sub(\"https?:\\/\\/\\S+\", \"\", tweet) # replacing url with domain name\n",
    "    tweet = re.sub(\"#[A-Za-z0–9]+\", \" \", tweet) # removing #mentions\n",
    "    tweet = re.sub(\"#\", \" \", tweet) # removing hash tag \n",
    "    tweet = re.sub(\"\\n\", \" \", tweet) # removing \\n \n",
    "    tweet = re.sub(\"@[A-Za-z0–9]+\", \"\", tweet) # removing @mentions\n",
    "    tweet = re.sub(\"RT : \", \"\", tweet) # removing RT\n",
    "    tweet = re.sub(\"\\b[a-zA-Z]{1,2}\\b\", \"\", tweet) # removing 1-2 char long words\n",
    "    tweet = re.sub('\\w*\\d\\w*', \"\", tweet) # removing words containing digits\n",
    "    \n",
    "    for word in extra_stopwords:\n",
    "        tweet = tweet.replace(word, \"\")\n",
    "\n",
    "    # lemmitizing\n",
    "    lemmatizer = WordNetLemmatizer()\n",
    "    new_s = \"\"\n",
    "    for word in tweet.split(\" \"):\n",
    "        lemmatizer.lemmatize(word)\n",
    "        if word not in stopwords.words(\"english\"):\n",
    "            new_s += word + \" \"\n",
    "\n",
    "    return new_s[:-1]\n"
   ]
  },
  {
   "cell_type": "code",
   "execution_count": 9,
   "metadata": {},
   "outputs": [
    {
     "data": {
      "application/javascript": [
       "\n",
       "            setTimeout(function() {\n",
       "                var nbb_cell_id = 9;\n",
       "                var nbb_unformatted_code = \"tweet_df[\\\"clean_tweet\\\"] = tweet_df[\\\"tweet\\\"].apply(prep_data)\";\n",
       "                var nbb_formatted_code = \"tweet_df[\\\"clean_tweet\\\"] = tweet_df[\\\"tweet\\\"].apply(prep_data)\";\n",
       "                var nbb_cells = Jupyter.notebook.get_cells();\n",
       "                for (var i = 0; i < nbb_cells.length; ++i) {\n",
       "                    if (nbb_cells[i].input_prompt_number == nbb_cell_id) {\n",
       "                        if (nbb_cells[i].get_text() == nbb_unformatted_code) {\n",
       "                             nbb_cells[i].set_text(nbb_formatted_code);\n",
       "                        }\n",
       "                        break;\n",
       "                    }\n",
       "                }\n",
       "            }, 500);\n",
       "            "
      ],
      "text/plain": [
       "<IPython.core.display.Javascript object>"
      ]
     },
     "metadata": {},
     "output_type": "display_data"
    }
   ],
   "source": [
    "tweet_df[\"clean_tweet\"] = tweet_df[\"tweet\"].apply(prep_data)"
   ]
  },
  {
   "cell_type": "code",
   "execution_count": 10,
   "metadata": {},
   "outputs": [
    {
     "data": {
      "text/html": [
       "<div>\n",
       "<style scoped>\n",
       "    .dataframe tbody tr th:only-of-type {\n",
       "        vertical-align: middle;\n",
       "    }\n",
       "\n",
       "    .dataframe tbody tr th {\n",
       "        vertical-align: top;\n",
       "    }\n",
       "\n",
       "    .dataframe thead th {\n",
       "        text-align: right;\n",
       "    }\n",
       "</style>\n",
       "<table border=\"1\" class=\"dataframe\">\n",
       "  <thead>\n",
       "    <tr style=\"text-align: right;\">\n",
       "      <th></th>\n",
       "      <th>date_created</th>\n",
       "      <th>tweet_id</th>\n",
       "      <th>tweet</th>\n",
       "      <th>clean_tweet</th>\n",
       "    </tr>\n",
       "  </thead>\n",
       "  <tbody>\n",
       "    <tr>\n",
       "      <th>0</th>\n",
       "      <td>2019-12-27 17:05:44</td>\n",
       "      <td>1210607708312920065</td>\n",
       "      <td>Right from exploring the local tourist attract...</td>\n",
       "      <td>Right exploring local tourist attractions expe...</td>\n",
       "    </tr>\n",
       "    <tr>\n",
       "      <th>1</th>\n",
       "      <td>2019-12-11 11:30:18</td>\n",
       "      <td>1204725090690248704</td>\n",
       "      <td>\"Best wishes to all the retail employees for b...</td>\n",
       "      <td>\"Best wishes retail employees bringing smile c...</td>\n",
       "    </tr>\n",
       "    <tr>\n",
       "      <th>2</th>\n",
       "      <td>2019-11-19 09:01:57</td>\n",
       "      <td>1196715220502110209</td>\n",
       "      <td>Men have emotions too so don't be shy to cry. ...</td>\n",
       "      <td>Men emotions shy cry.  's okay let  hold  insi...</td>\n",
       "    </tr>\n",
       "    <tr>\n",
       "      <th>3</th>\n",
       "      <td>2019-10-31 12:49:56</td>\n",
       "      <td>1189887224596189189</td>\n",
       "      <td>RT @Tarunmansukhani: Partners in crime and sty...</td>\n",
       "      <td>Partners crime style!   coming   screens TOMOR...</td>\n",
       "    </tr>\n",
       "    <tr>\n",
       "      <th>4</th>\n",
       "      <td>2019-10-28 04:35:03</td>\n",
       "      <td>1188675522978570241</td>\n",
       "      <td>Thank you so much @HTBrunch for making one of ...</td>\n",
       "      <td>Thank much  making one cherished dreams come t...</td>\n",
       "    </tr>\n",
       "  </tbody>\n",
       "</table>\n",
       "</div>"
      ],
      "text/plain": [
       "         date_created             tweet_id  \\\n",
       "0 2019-12-27 17:05:44  1210607708312920065   \n",
       "1 2019-12-11 11:30:18  1204725090690248704   \n",
       "2 2019-11-19 09:01:57  1196715220502110209   \n",
       "3 2019-10-31 12:49:56  1189887224596189189   \n",
       "4 2019-10-28 04:35:03  1188675522978570241   \n",
       "\n",
       "                                               tweet  \\\n",
       "0  Right from exploring the local tourist attract...   \n",
       "1  \"Best wishes to all the retail employees for b...   \n",
       "2  Men have emotions too so don't be shy to cry. ...   \n",
       "3  RT @Tarunmansukhani: Partners in crime and sty...   \n",
       "4  Thank you so much @HTBrunch for making one of ...   \n",
       "\n",
       "                                         clean_tweet  \n",
       "0  Right exploring local tourist attractions expe...  \n",
       "1  \"Best wishes retail employees bringing smile c...  \n",
       "2  Men emotions shy cry.  's okay let  hold  insi...  \n",
       "3  Partners crime style!   coming   screens TOMOR...  \n",
       "4  Thank much  making one cherished dreams come t...  "
      ]
     },
     "execution_count": 10,
     "metadata": {},
     "output_type": "execute_result"
    },
    {
     "data": {
      "application/javascript": [
       "\n",
       "            setTimeout(function() {\n",
       "                var nbb_cell_id = 10;\n",
       "                var nbb_unformatted_code = \"tweet_df.head()\";\n",
       "                var nbb_formatted_code = \"tweet_df.head()\";\n",
       "                var nbb_cells = Jupyter.notebook.get_cells();\n",
       "                for (var i = 0; i < nbb_cells.length; ++i) {\n",
       "                    if (nbb_cells[i].input_prompt_number == nbb_cell_id) {\n",
       "                        if (nbb_cells[i].get_text() == nbb_unformatted_code) {\n",
       "                             nbb_cells[i].set_text(nbb_formatted_code);\n",
       "                        }\n",
       "                        break;\n",
       "                    }\n",
       "                }\n",
       "            }, 500);\n",
       "            "
      ],
      "text/plain": [
       "<IPython.core.display.Javascript object>"
      ]
     },
     "metadata": {},
     "output_type": "display_data"
    }
   ],
   "source": [
    "tweet_df.head()"
   ]
  },
  {
   "cell_type": "code",
   "execution_count": 11,
   "metadata": {},
   "outputs": [
    {
     "data": {
      "text/plain": [
       "'Right exploring local tourist attractions experiencing culture closer lens,  perfect! And made  better get upto % cashback every-time I swiped       '"
      ]
     },
     "execution_count": 11,
     "metadata": {},
     "output_type": "execute_result"
    },
    {
     "data": {
      "application/javascript": [
       "\n",
       "            setTimeout(function() {\n",
       "                var nbb_cell_id = 11;\n",
       "                var nbb_unformatted_code = \"tweet_df[\\\"clean_tweet\\\"][0]\";\n",
       "                var nbb_formatted_code = \"tweet_df[\\\"clean_tweet\\\"][0]\";\n",
       "                var nbb_cells = Jupyter.notebook.get_cells();\n",
       "                for (var i = 0; i < nbb_cells.length; ++i) {\n",
       "                    if (nbb_cells[i].input_prompt_number == nbb_cell_id) {\n",
       "                        if (nbb_cells[i].get_text() == nbb_unformatted_code) {\n",
       "                             nbb_cells[i].set_text(nbb_formatted_code);\n",
       "                        }\n",
       "                        break;\n",
       "                    }\n",
       "                }\n",
       "            }, 500);\n",
       "            "
      ],
      "text/plain": [
       "<IPython.core.display.Javascript object>"
      ]
     },
     "metadata": {},
     "output_type": "display_data"
    }
   ],
   "source": [
    "tweet_df[\"clean_tweet\"][0]"
   ]
  },
  {
   "cell_type": "markdown",
   "metadata": {},
   "source": [
    "### Creating Word Cloud"
   ]
  },
  {
   "cell_type": "code",
   "execution_count": 12,
   "metadata": {},
   "outputs": [
    {
     "data": {
      "image/png": "[encoded data removed]",
      "text/plain": [
       "<Figure size 720x576 with 1 Axes>"
      ]
     },
     "metadata": {},
     "output_type": "display_data"
    },
    {
     "data": {
      "application/javascript": [
       "\n",
       "            setTimeout(function() {\n",
       "                var nbb_cell_id = 12;\n",
       "                var nbb_unformatted_code = \"# creating word cloud based on tweets\\n\\nwordcloud_words = \\\" \\\".join(tweet_df[\\\"clean_tweet\\\"])\\nwordcloud = WordCloud(\\n    height=700,\\n    width=800,\\n    background_color=\\\"white\\\",\\n    random_state=100,\\n    stopwords=STOPWORDS,\\n).generate(wordcloud_words)\\nplt.figure(figsize=(10, 8), facecolor=\\\"white\\\", edgecolor=\\\"blue\\\")\\nplt.imshow(wordcloud, interpolation=\\\"bilinear\\\")\\nplt.axis(\\\"off\\\")\\nplt.show()\";\n",
       "                var nbb_formatted_code = \"# creating word cloud based on tweets\\n\\nwordcloud_words = \\\" \\\".join(tweet_df[\\\"clean_tweet\\\"])\\nwordcloud = WordCloud(\\n    height=700,\\n    width=800,\\n    background_color=\\\"white\\\",\\n    random_state=100,\\n    stopwords=STOPWORDS,\\n).generate(wordcloud_words)\\nplt.figure(figsize=(10, 8), facecolor=\\\"white\\\", edgecolor=\\\"blue\\\")\\nplt.imshow(wordcloud, interpolation=\\\"bilinear\\\")\\nplt.axis(\\\"off\\\")\\nplt.show()\";\n",
       "                var nbb_cells = Jupyter.notebook.get_cells();\n",
       "                for (var i = 0; i < nbb_cells.length; ++i) {\n",
       "                    if (nbb_cells[i].input_prompt_number == nbb_cell_id) {\n",
       "                        if (nbb_cells[i].get_text() == nbb_unformatted_code) {\n",
       "                             nbb_cells[i].set_text(nbb_formatted_code);\n",
       "                        }\n",
       "                        break;\n",
       "                    }\n",
       "                }\n",
       "            }, 500);\n",
       "            "
      ],
      "text/plain": [
       "<IPython.core.display.Javascript object>"
      ]
     },
     "metadata": {},
     "output_type": "display_data"
    }
   ],
   "source": [
    "# creating word cloud based on tweets\n",
    "\n",
    "wordcloud_words = \" \".join(tweet_df[\"clean_tweet\"])\n",
    "wordcloud = WordCloud(\n",
    "    height=700,\n",
    "    width=800,\n",
    "    background_color=\"white\",\n",
    "    random_state=100,\n",
    "    stopwords=STOPWORDS,\n",
    ").generate(wordcloud_words)\n",
    "plt.figure(figsize=(10, 8), facecolor=\"white\", edgecolor=\"blue\")\n",
    "plt.imshow(wordcloud, interpolation=\"bilinear\")\n",
    "plt.axis(\"off\")\n",
    "plt.show()"
   ]
  },
  {
   "cell_type": "markdown",
   "metadata": {},
   "source": [
    "### Sentiment Scoring"
   ]
  },
  {
   "cell_type": "code",
   "execution_count": 13,
   "metadata": {},
   "outputs": [
    {
     "data": {
      "application/javascript": [
       "\n",
       "            setTimeout(function() {\n",
       "                var nbb_cell_id = 13;\n",
       "                var nbb_unformatted_code = \"# Create a function to get the polarity\\ndef getPolarity(tweet):\\n\\n    return TextBlob(tweet).sentiment.polarity\\n\\n\\ndef getAnalysis(score):\\n    if score < 0:\\n        return \\\"Negative\\\"\\n    elif score == 0:\\n        return \\\"Neutral\\\"\\n    else:\\n        return \\\"Positive\\\"\";\n",
       "                var nbb_formatted_code = \"# Create a function to get the polarity\\ndef getPolarity(tweet):\\n\\n    return TextBlob(tweet).sentiment.polarity\\n\\n\\ndef getAnalysis(score):\\n    if score < 0:\\n        return \\\"Negative\\\"\\n    elif score == 0:\\n        return \\\"Neutral\\\"\\n    else:\\n        return \\\"Positive\\\"\";\n",
       "                var nbb_cells = Jupyter.notebook.get_cells();\n",
       "                for (var i = 0; i < nbb_cells.length; ++i) {\n",
       "                    if (nbb_cells[i].input_prompt_number == nbb_cell_id) {\n",
       "                        if (nbb_cells[i].get_text() == nbb_unformatted_code) {\n",
       "                             nbb_cells[i].set_text(nbb_formatted_code);\n",
       "                        }\n",
       "                        break;\n",
       "                    }\n",
       "                }\n",
       "            }, 500);\n",
       "            "
      ],
      "text/plain": [
       "<IPython.core.display.Javascript object>"
      ]
     },
     "metadata": {},
     "output_type": "display_data"
    }
   ],
   "source": [
    "# Create a function to get the polarity\n",
    "def getPolarity(tweet):\n",
    "\n",
    "    return TextBlob(tweet).sentiment.polarity\n",
    "\n",
    "\n",
    "def getAnalysis(score):\n",
    "    if score < 0:\n",
    "        return \"Negative\"\n",
    "    elif score == 0:\n",
    "        return \"Neutral\"\n",
    "    else:\n",
    "        return \"Positive\""
   ]
  },
  {
   "cell_type": "code",
   "execution_count": 14,
   "metadata": {},
   "outputs": [
    {
     "data": {
      "application/javascript": [
       "\n",
       "            setTimeout(function() {\n",
       "                var nbb_cell_id = 14;\n",
       "                var nbb_unformatted_code = \"tweet_df[\\\"polarity\\\"] = tweet_df[\\\"clean_tweet\\\"].apply(getPolarity)\\ntweet_df[\\\"analysis\\\"] = tweet_df[\\\"polarity\\\"].apply(getAnalysis)\";\n",
       "                var nbb_formatted_code = \"tweet_df[\\\"polarity\\\"] = tweet_df[\\\"clean_tweet\\\"].apply(getPolarity)\\ntweet_df[\\\"analysis\\\"] = tweet_df[\\\"polarity\\\"].apply(getAnalysis)\";\n",
       "                var nbb_cells = Jupyter.notebook.get_cells();\n",
       "                for (var i = 0; i < nbb_cells.length; ++i) {\n",
       "                    if (nbb_cells[i].input_prompt_number == nbb_cell_id) {\n",
       "                        if (nbb_cells[i].get_text() == nbb_unformatted_code) {\n",
       "                             nbb_cells[i].set_text(nbb_formatted_code);\n",
       "                        }\n",
       "                        break;\n",
       "                    }\n",
       "                }\n",
       "            }, 500);\n",
       "            "
      ],
      "text/plain": [
       "<IPython.core.display.Javascript object>"
      ]
     },
     "metadata": {},
     "output_type": "display_data"
    }
   ],
   "source": [
    "tweet_df[\"polarity\"] = tweet_df[\"clean_tweet\"].apply(getPolarity)\n",
    "tweet_df[\"analysis\"] = tweet_df[\"polarity\"].apply(getAnalysis)"
   ]
  },
  {
   "cell_type": "code",
   "execution_count": 15,
   "metadata": {},
   "outputs": [
    {
     "data": {
      "text/html": [
       "<div>\n",
       "<style scoped>\n",
       "    .dataframe tbody tr th:only-of-type {\n",
       "        vertical-align: middle;\n",
       "    }\n",
       "\n",
       "    .dataframe tbody tr th {\n",
       "        vertical-align: top;\n",
       "    }\n",
       "\n",
       "    .dataframe thead th {\n",
       "        text-align: right;\n",
       "    }\n",
       "</style>\n",
       "<table border=\"1\" class=\"dataframe\">\n",
       "  <thead>\n",
       "    <tr style=\"text-align: right;\">\n",
       "      <th></th>\n",
       "      <th>date_created</th>\n",
       "      <th>tweet_id</th>\n",
       "      <th>tweet</th>\n",
       "      <th>clean_tweet</th>\n",
       "      <th>polarity</th>\n",
       "      <th>analysis</th>\n",
       "    </tr>\n",
       "  </thead>\n",
       "  <tbody>\n",
       "    <tr>\n",
       "      <th>0</th>\n",
       "      <td>2019-12-27 17:05:44</td>\n",
       "      <td>1210607708312920065</td>\n",
       "      <td>Right from exploring the local tourist attract...</td>\n",
       "      <td>Right exploring local tourist attractions expe...</td>\n",
       "      <td>0.446429</td>\n",
       "      <td>Positive</td>\n",
       "    </tr>\n",
       "    <tr>\n",
       "      <th>1</th>\n",
       "      <td>2019-12-11 11:30:18</td>\n",
       "      <td>1204725090690248704</td>\n",
       "      <td>\"Best wishes to all the retail employees for b...</td>\n",
       "      <td>\"Best wishes retail employees bringing smile c...</td>\n",
       "      <td>0.650000</td>\n",
       "      <td>Positive</td>\n",
       "    </tr>\n",
       "    <tr>\n",
       "      <th>2</th>\n",
       "      <td>2019-11-19 09:01:57</td>\n",
       "      <td>1196715220502110209</td>\n",
       "      <td>Men have emotions too so don't be shy to cry. ...</td>\n",
       "      <td>Men emotions shy cry.  's okay let  hold  insi...</td>\n",
       "      <td>0.000000</td>\n",
       "      <td>Neutral</td>\n",
       "    </tr>\n",
       "    <tr>\n",
       "      <th>3</th>\n",
       "      <td>2019-10-31 12:49:56</td>\n",
       "      <td>1189887224596189189</td>\n",
       "      <td>RT @Tarunmansukhani: Partners in crime and sty...</td>\n",
       "      <td>Partners crime style!   coming   screens TOMOR...</td>\n",
       "      <td>0.000000</td>\n",
       "      <td>Neutral</td>\n",
       "    </tr>\n",
       "    <tr>\n",
       "      <th>4</th>\n",
       "      <td>2019-10-28 04:35:03</td>\n",
       "      <td>1188675522978570241</td>\n",
       "      <td>Thank you so much @HTBrunch for making one of ...</td>\n",
       "      <td>Thank much  making one cherished dreams come t...</td>\n",
       "      <td>0.537500</td>\n",
       "      <td>Positive</td>\n",
       "    </tr>\n",
       "  </tbody>\n",
       "</table>\n",
       "</div>"
      ],
      "text/plain": [
       "         date_created             tweet_id  \\\n",
       "0 2019-12-27 17:05:44  1210607708312920065   \n",
       "1 2019-12-11 11:30:18  1204725090690248704   \n",
       "2 2019-11-19 09:01:57  1196715220502110209   \n",
       "3 2019-10-31 12:49:56  1189887224596189189   \n",
       "4 2019-10-28 04:35:03  1188675522978570241   \n",
       "\n",
       "                                               tweet  \\\n",
       "0  Right from exploring the local tourist attract...   \n",
       "1  \"Best wishes to all the retail employees for b...   \n",
       "2  Men have emotions too so don't be shy to cry. ...   \n",
       "3  RT @Tarunmansukhani: Partners in crime and sty...   \n",
       "4  Thank you so much @HTBrunch for making one of ...   \n",
       "\n",
       "                                         clean_tweet  polarity  analysis  \n",
       "0  Right exploring local tourist attractions expe...  0.446429  Positive  \n",
       "1  \"Best wishes retail employees bringing smile c...  0.650000  Positive  \n",
       "2  Men emotions shy cry.  's okay let  hold  insi...  0.000000   Neutral  \n",
       "3  Partners crime style!   coming   screens TOMOR...  0.000000   Neutral  \n",
       "4  Thank much  making one cherished dreams come t...  0.537500  Positive  "
      ]
     },
     "execution_count": 15,
     "metadata": {},
     "output_type": "execute_result"
    },
    {
     "data": {
      "application/javascript": [
       "\n",
       "            setTimeout(function() {\n",
       "                var nbb_cell_id = 15;\n",
       "                var nbb_unformatted_code = \"tweet_df.head()\";\n",
       "                var nbb_formatted_code = \"tweet_df.head()\";\n",
       "                var nbb_cells = Jupyter.notebook.get_cells();\n",
       "                for (var i = 0; i < nbb_cells.length; ++i) {\n",
       "                    if (nbb_cells[i].input_prompt_number == nbb_cell_id) {\n",
       "                        if (nbb_cells[i].get_text() == nbb_unformatted_code) {\n",
       "                             nbb_cells[i].set_text(nbb_formatted_code);\n",
       "                        }\n",
       "                        break;\n",
       "                    }\n",
       "                }\n",
       "            }, 500);\n",
       "            "
      ],
      "text/plain": [
       "<IPython.core.display.Javascript object>"
      ]
     },
     "metadata": {},
     "output_type": "display_data"
    }
   ],
   "source": [
    "tweet_df.head()"
   ]
  },
  {
   "cell_type": "code",
   "execution_count": 16,
   "metadata": {},
   "outputs": [
    {
     "data": {
      "image/png": "[encoded data removed]",
      "text/plain": [
       "<Figure size 432x288 with 1 Axes>"
      ]
     },
     "metadata": {
      "needs_background": "light"
     },
     "output_type": "display_data"
    },
    {
     "data": {
      "application/javascript": [
       "\n",
       "            setTimeout(function() {\n",
       "                var nbb_cell_id = 16;\n",
       "                var nbb_unformatted_code = \"# Plotting and visualizing the counts\\nplt.title(\\\"Sentiment Analysis\\\")\\nplt.xlabel(\\\"Sentiment\\\")\\nplt.ylabel(\\\"Counts\\\")\\ntweet_df[\\\"analysis\\\"].value_counts().plot(kind=\\\"bar\\\")\\nplt.show()\";\n",
       "                var nbb_formatted_code = \"# Plotting and visualizing the counts\\nplt.title(\\\"Sentiment Analysis\\\")\\nplt.xlabel(\\\"Sentiment\\\")\\nplt.ylabel(\\\"Counts\\\")\\ntweet_df[\\\"analysis\\\"].value_counts().plot(kind=\\\"bar\\\")\\nplt.show()\";\n",
       "                var nbb_cells = Jupyter.notebook.get_cells();\n",
       "                for (var i = 0; i < nbb_cells.length; ++i) {\n",
       "                    if (nbb_cells[i].input_prompt_number == nbb_cell_id) {\n",
       "                        if (nbb_cells[i].get_text() == nbb_unformatted_code) {\n",
       "                             nbb_cells[i].set_text(nbb_formatted_code);\n",
       "                        }\n",
       "                        break;\n",
       "                    }\n",
       "                }\n",
       "            }, 500);\n",
       "            "
      ],
      "text/plain": [
       "<IPython.core.display.Javascript object>"
      ]
     },
     "metadata": {},
     "output_type": "display_data"
    }
   ],
   "source": [
    "# Plotting and visualizing the counts\n",
    "plt.title(\"Sentiment Analysis\")\n",
    "plt.xlabel(\"Sentiment\")\n",
    "plt.ylabel(\"Counts\")\n",
    "tweet_df[\"analysis\"].value_counts().plot(kind=\"bar\")\n",
    "plt.show()"
   ]
  },
  {
   "cell_type": "code",
   "execution_count": 17,
   "metadata": {},
   "outputs": [
    {
     "data": {
      "text/html": [
       "<div>\n",
       "<style scoped>\n",
       "    .dataframe tbody tr th:only-of-type {\n",
       "        vertical-align: middle;\n",
       "    }\n",
       "\n",
       "    .dataframe tbody tr th {\n",
       "        vertical-align: top;\n",
       "    }\n",
       "\n",
       "    .dataframe thead th {\n",
       "        text-align: right;\n",
       "    }\n",
       "</style>\n",
       "<table border=\"1\" class=\"dataframe\">\n",
       "  <thead>\n",
       "    <tr style=\"text-align: right;\">\n",
       "      <th></th>\n",
       "      <th>index</th>\n",
       "      <th>analysis</th>\n",
       "    </tr>\n",
       "  </thead>\n",
       "  <tbody>\n",
       "    <tr>\n",
       "      <th>0</th>\n",
       "      <td>Neutral</td>\n",
       "      <td>24</td>\n",
       "    </tr>\n",
       "    <tr>\n",
       "      <th>1</th>\n",
       "      <td>Positive</td>\n",
       "      <td>22</td>\n",
       "    </tr>\n",
       "    <tr>\n",
       "      <th>2</th>\n",
       "      <td>Negative</td>\n",
       "      <td>4</td>\n",
       "    </tr>\n",
       "  </tbody>\n",
       "</table>\n",
       "</div>"
      ],
      "text/plain": [
       "      index  analysis\n",
       "0   Neutral        24\n",
       "1  Positive        22\n",
       "2  Negative         4"
      ]
     },
     "execution_count": 17,
     "metadata": {},
     "output_type": "execute_result"
    },
    {
     "data": {
      "application/javascript": [
       "\n",
       "            setTimeout(function() {\n",
       "                var nbb_cell_id = 17;\n",
       "                var nbb_unformatted_code = \"t = pd.DataFrame(tweet_df[\\\"analysis\\\"].value_counts()).reset_index()\\nt\";\n",
       "                var nbb_formatted_code = \"t = pd.DataFrame(tweet_df[\\\"analysis\\\"].value_counts()).reset_index()\\nt\";\n",
       "                var nbb_cells = Jupyter.notebook.get_cells();\n",
       "                for (var i = 0; i < nbb_cells.length; ++i) {\n",
       "                    if (nbb_cells[i].input_prompt_number == nbb_cell_id) {\n",
       "                        if (nbb_cells[i].get_text() == nbb_unformatted_code) {\n",
       "                             nbb_cells[i].set_text(nbb_formatted_code);\n",
       "                        }\n",
       "                        break;\n",
       "                    }\n",
       "                }\n",
       "            }, 500);\n",
       "            "
      ],
      "text/plain": [
       "<IPython.core.display.Javascript object>"
      ]
     },
     "metadata": {},
     "output_type": "display_data"
    }
   ],
   "source": [
    "t = pd.DataFrame(tweet_df[\"analysis\"].value_counts()).reset_index()\n",
    "t"
   ]
  },
  {
   "cell_type": "code",
   "execution_count": 19,
   "metadata": {},
   "outputs": [
    {
     "name": "stdout",
     "output_type": "stream",
     "text": [
      "  sentiment  analysis\n",
      "0   Neutral        24\n",
      "1  Positive        22\n",
      "2  Negative         4\n"
     ]
    },
    {
     "data": {
      "application/vnd.plotly.v1+json": {
       "config": {
        "plotlyServerURL": "https://plot.ly"
       },
       "data": [
        {
         "type": "bar",
         "x": [
          "Neutral",
          "Positive",
          "Negative"
         ],
         "y": [
          24,
          22,
          4
         ]
        }
       ],
       "layout": {
        "template": {
         "data": {
          "bar": [
           {
            "error_x": {
             "color": "#2a3f5f"
            },
            "error_y": {
             "color": "#2a3f5f"
            },
            "marker": {
             "line": {
              "color": "#E5ECF6",
              "width": 0.5
             }
            },
            "type": "bar"
           }
          ],
          "barpolar": [
           {
            "marker": {
             "line": {
              "color": "#E5ECF6",
              "width": 0.5
             }
            },
            "type": "barpolar"
           }
          ],
          "carpet": [
           {
            "aaxis": {
             "endlinecolor": "#2a3f5f",
             "gridcolor": "white",
             "linecolor": "white",
             "minorgridcolor": "white",
             "startlinecolor": "#2a3f5f"
            },
            "baxis": {
             "endlinecolor": "#2a3f5f",
             "gridcolor": "white",
             "linecolor": "white",
             "minorgridcolor": "white",
             "startlinecolor": "#2a3f5f"
            },
            "type": "carpet"
           }
          ],
          "choropleth": [
           {
            "colorbar": {
             "outlinewidth": 0,
             "ticks": ""
            },
            "type": "choropleth"
           }
          ],
          "contour": [
           {
            "colorbar": {
             "outlinewidth": 0,
             "ticks": ""
            },
            "colorscale": [
             [
              0,
              "#0d0887"
             ],
             [
              0.1111111111111111,
              "#46039f"
             ],
             [
              0.2222222222222222,
              "#7201a8"
             ],
             [
              0.3333333333333333,
              "#9c179e"
             ],
             [
              0.4444444444444444,
              "#bd3786"
             ],
             [
              0.5555555555555556,
              "#d8576b"
             ],
             [
              0.6666666666666666,
              "#ed7953"
             ],
             [
              0.7777777777777778,
              "#fb9f3a"
             ],
             [
              0.8888888888888888,
              "#fdca26"
             ],
             [
              1,
              "#f0f921"
             ]
            ],
            "type": "contour"
           }
          ],
          "contourcarpet": [
           {
            "colorbar": {
             "outlinewidth": 0,
             "ticks": ""
            },
            "type": "contourcarpet"
           }
          ],
          "heatmap": [
           {
            "colorbar": {
             "outlinewidth": 0,
             "ticks": ""
            },
            "colorscale": [
             [
              0,
              "#0d0887"
             ],
             [
              0.1111111111111111,
              "#46039f"
             ],
             [
              0.2222222222222222,
              "#7201a8"
             ],
             [
              0.3333333333333333,
              "#9c179e"
             ],
             [
              0.4444444444444444,
              "#bd3786"
             ],
             [
              0.5555555555555556,
              "#d8576b"
             ],
             [
              0.6666666666666666,
              "#ed7953"
             ],
             [
              0.7777777777777778,
              "#fb9f3a"
             ],
             [
              0.8888888888888888,
              "#fdca26"
             ],
             [
              1,
              "#f0f921"
             ]
            ],
            "type": "heatmap"
           }
          ],
          "heatmapgl": [
           {
            "colorbar": {
             "outlinewidth": 0,
             "ticks": ""
            },
            "colorscale": [
             [
              0,
              "#0d0887"
             ],
             [
              0.1111111111111111,
              "#46039f"
             ],
             [
              0.2222222222222222,
              "#7201a8"
             ],
             [
              0.3333333333333333,
              "#9c179e"
             ],
             [
              0.4444444444444444,
              "#bd3786"
             ],
             [
              0.5555555555555556,
              "#d8576b"
             ],
             [
              0.6666666666666666,
              "#ed7953"
             ],
             [
              0.7777777777777778,
              "#fb9f3a"
             ],
             [
              0.8888888888888888,
              "#fdca26"
             ],
             [
              1,
              "#f0f921"
             ]
            ],
            "type": "heatmapgl"
           }
          ],
          "histogram": [
           {
            "marker": {
             "colorbar": {
              "outlinewidth": 0,
              "ticks": ""
             }
            },
            "type": "histogram"
           }
          ],
          "histogram2d": [
           {
            "colorbar": {
             "outlinewidth": 0,
             "ticks": ""
            },
            "colorscale": [
             [
              0,
              "#0d0887"
             ],
             [
              0.1111111111111111,
              "#46039f"
             ],
             [
              0.2222222222222222,
              "#7201a8"
             ],
             [
              0.3333333333333333,
              "#9c179e"
             ],
             [
              0.4444444444444444,
              "#bd3786"
             ],
             [
              0.5555555555555556,
              "#d8576b"
             ],
             [
              0.6666666666666666,
              "#ed7953"
             ],
             [
              0.7777777777777778,
              "#fb9f3a"
             ],
             [
              0.8888888888888888,
              "#fdca26"
             ],
             [
              1,
              "#f0f921"
             ]
            ],
            "type": "histogram2d"
           }
          ],
          "histogram2dcontour": [
           {
            "colorbar": {
             "outlinewidth": 0,
             "ticks": ""
            },
            "colorscale": [
             [
              0,
              "#0d0887"
             ],
             [
              0.1111111111111111,
              "#46039f"
             ],
             [
              0.2222222222222222,
              "#7201a8"
             ],
             [
              0.3333333333333333,
              "#9c179e"
             ],
             [
              0.4444444444444444,
              "#bd3786"
             ],
             [
              0.5555555555555556,
              "#d8576b"
             ],
             [
              0.6666666666666666,
              "#ed7953"
             ],
             [
              0.7777777777777778,
              "#fb9f3a"
             ],
             [
              0.8888888888888888,
              "#fdca26"
             ],
             [
              1,
              "#f0f921"
             ]
            ],
            "type": "histogram2dcontour"
           }
          ],
          "mesh3d": [
           {
            "colorbar": {
             "outlinewidth": 0,
             "ticks": ""
            },
            "type": "mesh3d"
           }
          ],
          "parcoords": [
           {
            "line": {
             "colorbar": {
              "outlinewidth": 0,
              "ticks": ""
             }
            },
            "type": "parcoords"
           }
          ],
          "pie": [
           {
            "automargin": true,
            "type": "pie"
           }
          ],
          "scatter": [
           {
            "marker": {
             "colorbar": {
              "outlinewidth": 0,
              "ticks": ""
             }
            },
            "type": "scatter"
           }
          ],
          "scatter3d": [
           {
            "line": {
             "colorbar": {
              "outlinewidth": 0,
              "ticks": ""
             }
            },
            "marker": {
             "colorbar": {
              "outlinewidth": 0,
              "ticks": ""
             }
            },
            "type": "scatter3d"
           }
          ],
          "scattercarpet": [
           {
            "marker": {
             "colorbar": {
              "outlinewidth": 0,
              "ticks": ""
             }
            },
            "type": "scattercarpet"
           }
          ],
          "scattergeo": [
           {
            "marker": {
             "colorbar": {
              "outlinewidth": 0,
              "ticks": ""
             }
            },
            "type": "scattergeo"
           }
          ],
          "scattergl": [
           {
            "marker": {
             "colorbar": {
              "outlinewidth": 0,
              "ticks": ""
             }
            },
            "type": "scattergl"
           }
          ],
          "scattermapbox": [
           {
            "marker": {
             "colorbar": {
              "outlinewidth": 0,
              "ticks": ""
             }
            },
            "type": "scattermapbox"
           }
          ],
          "scatterpolar": [
           {
            "marker": {
             "colorbar": {
              "outlinewidth": 0,
              "ticks": ""
             }
            },
            "type": "scatterpolar"
           }
          ],
          "scatterpolargl": [
           {
            "marker": {
             "colorbar": {
              "outlinewidth": 0,
              "ticks": ""
             }
            },
            "type": "scatterpolargl"
           }
          ],
          "scatterternary": [
           {
            "marker": {
             "colorbar": {
              "outlinewidth": 0,
              "ticks": ""
             }
            },
            "type": "scatterternary"
           }
          ],
          "surface": [
           {
            "colorbar": {
             "outlinewidth": 0,
             "ticks": ""
            },
            "colorscale": [
             [
              0,
              "#0d0887"
             ],
             [
              0.1111111111111111,
              "#46039f"
             ],
             [
              0.2222222222222222,
              "#7201a8"
             ],
             [
              0.3333333333333333,
              "#9c179e"
             ],
             [
              0.4444444444444444,
              "#bd3786"
             ],
             [
              0.5555555555555556,
              "#d8576b"
             ],
             [
              0.6666666666666666,
              "#ed7953"
             ],
             [
              0.7777777777777778,
              "#fb9f3a"
             ],
             [
              0.8888888888888888,
              "#fdca26"
             ],
             [
              1,
              "#f0f921"
             ]
            ],
            "type": "surface"
           }
          ],
          "table": [
           {
            "cells": {
             "fill": {
              "color": "#EBF0F8"
             },
             "line": {
              "color": "white"
             }
            },
            "header": {
             "fill": {
              "color": "#C8D4E3"
             },
             "line": {
              "color": "white"
             }
            },
            "type": "table"
           }
          ]
         },
         "layout": {
          "annotationdefaults": {
           "arrowcolor": "#2a3f5f",
           "arrowhead": 0,
           "arrowwidth": 1
          },
          "coloraxis": {
           "colorbar": {
            "outlinewidth": 0,
            "ticks": ""
           }
          },
          "colorscale": {
           "diverging": [
            [
             0,
             "#8e0152"
            ],
            [
             0.1,
             "#c51b7d"
            ],
            [
             0.2,
             "#de77ae"
            ],
            [
             0.3,
             "#f1b6da"
            ],
            [
             0.4,
             "#fde0ef"
            ],
            [
             0.5,
             "#f7f7f7"
            ],
            [
             0.6,
             "#e6f5d0"
            ],
            [
             0.7,
             "#b8e186"
            ],
            [
             0.8,
             "#7fbc41"
            ],
            [
             0.9,
             "#4d9221"
            ],
            [
             1,
             "#276419"
            ]
           ],
           "sequential": [
            [
             0,
             "#0d0887"
            ],
            [
             0.1111111111111111,
             "#46039f"
            ],
            [
             0.2222222222222222,
             "#7201a8"
            ],
            [
             0.3333333333333333,
             "#9c179e"
            ],
            [
             0.4444444444444444,
             "#bd3786"
            ],
            [
             0.5555555555555556,
             "#d8576b"
            ],
            [
             0.6666666666666666,
             "#ed7953"
            ],
            [
             0.7777777777777778,
             "#fb9f3a"
            ],
            [
             0.8888888888888888,
             "#fdca26"
            ],
            [
             1,
             "#f0f921"
            ]
           ],
           "sequentialminus": [
            [
             0,
             "#0d0887"
            ],
            [
             0.1111111111111111,
             "#46039f"
            ],
            [
             0.2222222222222222,
             "#7201a8"
            ],
            [
             0.3333333333333333,
             "#9c179e"
            ],
            [
             0.4444444444444444,
             "#bd3786"
            ],
            [
             0.5555555555555556,
             "#d8576b"
            ],
            [
             0.6666666666666666,
             "#ed7953"
            ],
            [
             0.7777777777777778,
             "#fb9f3a"
            ],
            [
             0.8888888888888888,
             "#fdca26"
            ],
            [
             1,
             "#f0f921"
            ]
           ]
          },
          "colorway": [
           "#636efa",
           "#EF553B",
           "#00cc96",
           "#ab63fa",
           "#FFA15A",
           "#19d3f3",
           "#FF6692",
           "#B6E880",
           "#FF97FF",
           "#FECB52"
          ],
          "font": {
           "color": "#2a3f5f"
          },
          "geo": {
           "bgcolor": "white",
           "lakecolor": "white",
           "landcolor": "#E5ECF6",
           "showlakes": true,
           "showland": true,
           "subunitcolor": "white"
          },
          "hoverlabel": {
           "align": "left"
          },
          "hovermode": "closest",
          "mapbox": {
           "style": "light"
          },
          "paper_bgcolor": "white",
          "plot_bgcolor": "#E5ECF6",
          "polar": {
           "angularaxis": {
            "gridcolor": "white",
            "linecolor": "white",
            "ticks": ""
           },
           "bgcolor": "#E5ECF6",
           "radialaxis": {
            "gridcolor": "white",
            "linecolor": "white",
            "ticks": ""
           }
          },
          "scene": {
           "xaxis": {
            "backgroundcolor": "#E5ECF6",
            "gridcolor": "white",
            "gridwidth": 2,
            "linecolor": "white",
            "showbackground": true,
            "ticks": "",
            "zerolinecolor": "white"
           },
           "yaxis": {
            "backgroundcolor": "#E5ECF6",
            "gridcolor": "white",
            "gridwidth": 2,
            "linecolor": "white",
            "showbackground": true,
            "ticks": "",
            "zerolinecolor": "white"
           },
           "zaxis": {
            "backgroundcolor": "#E5ECF6",
            "gridcolor": "white",
            "gridwidth": 2,
            "linecolor": "white",
            "showbackground": true,
            "ticks": "",
            "zerolinecolor": "white"
           }
          },
          "shapedefaults": {
           "line": {
            "color": "#2a3f5f"
           }
          },
          "ternary": {
           "aaxis": {
            "gridcolor": "white",
            "linecolor": "white",
            "ticks": ""
           },
           "baxis": {
            "gridcolor": "white",
            "linecolor": "white",
            "ticks": ""
           },
           "bgcolor": "#E5ECF6",
           "caxis": {
            "gridcolor": "white",
            "linecolor": "white",
            "ticks": ""
           }
          },
          "title": {
           "x": 0.05
          },
          "xaxis": {
           "automargin": true,
           "gridcolor": "white",
           "linecolor": "white",
           "ticks": "",
           "title": {
            "standoff": 15
           },
           "zerolinecolor": "white",
           "zerolinewidth": 2
          },
          "yaxis": {
           "automargin": true,
           "gridcolor": "white",
           "linecolor": "white",
           "ticks": "",
           "title": {
            "standoff": 15
           },
           "zerolinecolor": "white",
           "zerolinewidth": 2
          }
         }
        }
       }
      },
      "text/html": [
       "<div>\n",
       "        \n",
       "        \n",
       "            <div id=\"f744e9b9-e102-418b-a111-7db0e564ecb1\" class=\"plotly-graph-div\" style=\"height:525px; width:100%;\"></div>\n",
       "            <script type=\"text/javascript\">\n",
       "                require([\"plotly\"], function(Plotly) {\n",
       "                    window.PLOTLYENV=window.PLOTLYENV || {};\n",
       "                    \n",
       "                if (document.getElementById(\"f744e9b9-e102-418b-a111-7db0e564ecb1\")) {\n",
       "                    Plotly.newPlot(\n",
       "                        'f744e9b9-e102-418b-a111-7db0e564ecb1',\n",
       "                        [{\"type\": \"bar\", \"x\": [\"Neutral\", \"Positive\", \"Negative\"], \"y\": [24, 22, 4]}],\n",
       "                        {\"template\": {\"data\": {\"bar\": [{\"error_x\": {\"color\": \"#2a3f5f\"}, \"error_y\": {\"color\": \"#2a3f5f\"}, \"marker\": {\"line\": {\"color\": \"#E5ECF6\", \"width\": 0.5}}, \"type\": \"bar\"}], \"barpolar\": [{\"marker\": {\"line\": {\"color\": \"#E5ECF6\", \"width\": 0.5}}, \"type\": \"barpolar\"}], \"carpet\": [{\"aaxis\": {\"endlinecolor\": \"#2a3f5f\", \"gridcolor\": \"white\", \"linecolor\": \"white\", \"minorgridcolor\": \"white\", \"startlinecolor\": \"#2a3f5f\"}, \"baxis\": {\"endlinecolor\": \"#2a3f5f\", \"gridcolor\": \"white\", \"linecolor\": \"white\", \"minorgridcolor\": \"white\", \"startlinecolor\": \"#2a3f5f\"}, \"type\": \"carpet\"}], \"choropleth\": [{\"colorbar\": {\"outlinewidth\": 0, \"ticks\": \"\"}, \"type\": \"choropleth\"}], \"contour\": [{\"colorbar\": {\"outlinewidth\": 0, \"ticks\": \"\"}, \"colorscale\": [[0.0, \"#0d0887\"], [0.1111111111111111, \"#46039f\"], [0.2222222222222222, \"#7201a8\"], [0.3333333333333333, \"#9c179e\"], [0.4444444444444444, \"#bd3786\"], [0.5555555555555556, \"#d8576b\"], [0.6666666666666666, \"#ed7953\"], [0.7777777777777778, \"#fb9f3a\"], [0.8888888888888888, \"#fdca26\"], [1.0, \"#f0f921\"]], \"type\": \"contour\"}], \"contourcarpet\": [{\"colorbar\": {\"outlinewidth\": 0, \"ticks\": \"\"}, \"type\": \"contourcarpet\"}], \"heatmap\": [{\"colorbar\": {\"outlinewidth\": 0, \"ticks\": \"\"}, \"colorscale\": [[0.0, \"#0d0887\"], [0.1111111111111111, \"#46039f\"], [0.2222222222222222, \"#7201a8\"], [0.3333333333333333, \"#9c179e\"], [0.4444444444444444, \"#bd3786\"], [0.5555555555555556, \"#d8576b\"], [0.6666666666666666, \"#ed7953\"], [0.7777777777777778, \"#fb9f3a\"], [0.8888888888888888, \"#fdca26\"], [1.0, \"#f0f921\"]], \"type\": \"heatmap\"}], \"heatmapgl\": [{\"colorbar\": {\"outlinewidth\": 0, \"ticks\": \"\"}, \"colorscale\": [[0.0, \"#0d0887\"], [0.1111111111111111, \"#46039f\"], [0.2222222222222222, \"#7201a8\"], [0.3333333333333333, \"#9c179e\"], [0.4444444444444444, \"#bd3786\"], [0.5555555555555556, \"#d8576b\"], [0.6666666666666666, \"#ed7953\"], [0.7777777777777778, \"#fb9f3a\"], [0.8888888888888888, \"#fdca26\"], [1.0, \"#f0f921\"]], \"type\": \"heatmapgl\"}], \"histogram\": [{\"marker\": {\"colorbar\": {\"outlinewidth\": 0, \"ticks\": \"\"}}, \"type\": \"histogram\"}], \"histogram2d\": [{\"colorbar\": {\"outlinewidth\": 0, \"ticks\": \"\"}, \"colorscale\": [[0.0, \"#0d0887\"], [0.1111111111111111, \"#46039f\"], [0.2222222222222222, \"#7201a8\"], [0.3333333333333333, \"#9c179e\"], [0.4444444444444444, \"#bd3786\"], [0.5555555555555556, \"#d8576b\"], [0.6666666666666666, \"#ed7953\"], [0.7777777777777778, \"#fb9f3a\"], [0.8888888888888888, \"#fdca26\"], [1.0, \"#f0f921\"]], \"type\": \"histogram2d\"}], \"histogram2dcontour\": [{\"colorbar\": {\"outlinewidth\": 0, \"ticks\": \"\"}, \"colorscale\": [[0.0, \"#0d0887\"], [0.1111111111111111, \"#46039f\"], [0.2222222222222222, \"#7201a8\"], [0.3333333333333333, \"#9c179e\"], [0.4444444444444444, \"#bd3786\"], [0.5555555555555556, \"#d8576b\"], [0.6666666666666666, \"#ed7953\"], [0.7777777777777778, \"#fb9f3a\"], [0.8888888888888888, \"#fdca26\"], [1.0, \"#f0f921\"]], \"type\": \"histogram2dcontour\"}], \"mesh3d\": [{\"colorbar\": {\"outlinewidth\": 0, \"ticks\": \"\"}, \"type\": \"mesh3d\"}], \"parcoords\": [{\"line\": {\"colorbar\": {\"outlinewidth\": 0, \"ticks\": \"\"}}, \"type\": \"parcoords\"}], \"pie\": [{\"automargin\": true, \"type\": \"pie\"}], \"scatter\": [{\"marker\": {\"colorbar\": {\"outlinewidth\": 0, \"ticks\": \"\"}}, \"type\": \"scatter\"}], \"scatter3d\": [{\"line\": {\"colorbar\": {\"outlinewidth\": 0, \"ticks\": \"\"}}, \"marker\": {\"colorbar\": {\"outlinewidth\": 0, \"ticks\": \"\"}}, \"type\": \"scatter3d\"}], \"scattercarpet\": [{\"marker\": {\"colorbar\": {\"outlinewidth\": 0, \"ticks\": \"\"}}, \"type\": \"scattercarpet\"}], \"scattergeo\": [{\"marker\": {\"colorbar\": {\"outlinewidth\": 0, \"ticks\": \"\"}}, \"type\": \"scattergeo\"}], \"scattergl\": [{\"marker\": {\"colorbar\": {\"outlinewidth\": 0, \"ticks\": \"\"}}, \"type\": \"scattergl\"}], \"scattermapbox\": [{\"marker\": {\"colorbar\": {\"outlinewidth\": 0, \"ticks\": \"\"}}, \"type\": \"scattermapbox\"}], \"scatterpolar\": [{\"marker\": {\"colorbar\": {\"outlinewidth\": 0, \"ticks\": \"\"}}, \"type\": \"scatterpolar\"}], \"scatterpolargl\": [{\"marker\": {\"colorbar\": {\"outlinewidth\": 0, \"ticks\": \"\"}}, \"type\": \"scatterpolargl\"}], \"scatterternary\": [{\"marker\": {\"colorbar\": {\"outlinewidth\": 0, \"ticks\": \"\"}}, \"type\": \"scatterternary\"}], \"surface\": [{\"colorbar\": {\"outlinewidth\": 0, \"ticks\": \"\"}, \"colorscale\": [[0.0, \"#0d0887\"], [0.1111111111111111, \"#46039f\"], [0.2222222222222222, \"#7201a8\"], [0.3333333333333333, \"#9c179e\"], [0.4444444444444444, \"#bd3786\"], [0.5555555555555556, \"#d8576b\"], [0.6666666666666666, \"#ed7953\"], [0.7777777777777778, \"#fb9f3a\"], [0.8888888888888888, \"#fdca26\"], [1.0, \"#f0f921\"]], \"type\": \"surface\"}], \"table\": [{\"cells\": {\"fill\": {\"color\": \"#EBF0F8\"}, \"line\": {\"color\": \"white\"}}, \"header\": {\"fill\": {\"color\": \"#C8D4E3\"}, \"line\": {\"color\": \"white\"}}, \"type\": \"table\"}]}, \"layout\": {\"annotationdefaults\": {\"arrowcolor\": \"#2a3f5f\", \"arrowhead\": 0, \"arrowwidth\": 1}, \"coloraxis\": {\"colorbar\": {\"outlinewidth\": 0, \"ticks\": \"\"}}, \"colorscale\": {\"diverging\": [[0, \"#8e0152\"], [0.1, \"#c51b7d\"], [0.2, \"#de77ae\"], [0.3, \"#f1b6da\"], [0.4, \"#fde0ef\"], [0.5, \"#f7f7f7\"], [0.6, \"#e6f5d0\"], [0.7, \"#b8e186\"], [0.8, \"#7fbc41\"], [0.9, \"#4d9221\"], [1, \"#276419\"]], \"sequential\": [[0.0, \"#0d0887\"], [0.1111111111111111, \"#46039f\"], [0.2222222222222222, \"#7201a8\"], [0.3333333333333333, \"#9c179e\"], [0.4444444444444444, \"#bd3786\"], [0.5555555555555556, \"#d8576b\"], [0.6666666666666666, \"#ed7953\"], [0.7777777777777778, \"#fb9f3a\"], [0.8888888888888888, \"#fdca26\"], [1.0, \"#f0f921\"]], \"sequentialminus\": [[0.0, \"#0d0887\"], [0.1111111111111111, \"#46039f\"], [0.2222222222222222, \"#7201a8\"], [0.3333333333333333, \"#9c179e\"], [0.4444444444444444, \"#bd3786\"], [0.5555555555555556, \"#d8576b\"], [0.6666666666666666, \"#ed7953\"], [0.7777777777777778, \"#fb9f3a\"], [0.8888888888888888, \"#fdca26\"], [1.0, \"#f0f921\"]]}, \"colorway\": [\"#636efa\", \"#EF553B\", \"#00cc96\", \"#ab63fa\", \"#FFA15A\", \"#19d3f3\", \"#FF6692\", \"#B6E880\", \"#FF97FF\", \"#FECB52\"], \"font\": {\"color\": \"#2a3f5f\"}, \"geo\": {\"bgcolor\": \"white\", \"lakecolor\": \"white\", \"landcolor\": \"#E5ECF6\", \"showlakes\": true, \"showland\": true, \"subunitcolor\": \"white\"}, \"hoverlabel\": {\"align\": \"left\"}, \"hovermode\": \"closest\", \"mapbox\": {\"style\": \"light\"}, \"paper_bgcolor\": \"white\", \"plot_bgcolor\": \"#E5ECF6\", \"polar\": {\"angularaxis\": {\"gridcolor\": \"white\", \"linecolor\": \"white\", \"ticks\": \"\"}, \"bgcolor\": \"#E5ECF6\", \"radialaxis\": {\"gridcolor\": \"white\", \"linecolor\": \"white\", \"ticks\": \"\"}}, \"scene\": {\"xaxis\": {\"backgroundcolor\": \"#E5ECF6\", \"gridcolor\": \"white\", \"gridwidth\": 2, \"linecolor\": \"white\", \"showbackground\": true, \"ticks\": \"\", \"zerolinecolor\": \"white\"}, \"yaxis\": {\"backgroundcolor\": \"#E5ECF6\", \"gridcolor\": \"white\", \"gridwidth\": 2, \"linecolor\": \"white\", \"showbackground\": true, \"ticks\": \"\", \"zerolinecolor\": \"white\"}, \"zaxis\": {\"backgroundcolor\": \"#E5ECF6\", \"gridcolor\": \"white\", \"gridwidth\": 2, \"linecolor\": \"white\", \"showbackground\": true, \"ticks\": \"\", \"zerolinecolor\": \"white\"}}, \"shapedefaults\": {\"line\": {\"color\": \"#2a3f5f\"}}, \"ternary\": {\"aaxis\": {\"gridcolor\": \"white\", \"linecolor\": \"white\", \"ticks\": \"\"}, \"baxis\": {\"gridcolor\": \"white\", \"linecolor\": \"white\", \"ticks\": \"\"}, \"bgcolor\": \"#E5ECF6\", \"caxis\": {\"gridcolor\": \"white\", \"linecolor\": \"white\", \"ticks\": \"\"}}, \"title\": {\"x\": 0.05}, \"xaxis\": {\"automargin\": true, \"gridcolor\": \"white\", \"linecolor\": \"white\", \"ticks\": \"\", \"title\": {\"standoff\": 15}, \"zerolinecolor\": \"white\", \"zerolinewidth\": 2}, \"yaxis\": {\"automargin\": true, \"gridcolor\": \"white\", \"linecolor\": \"white\", \"ticks\": \"\", \"title\": {\"standoff\": 15}, \"zerolinecolor\": \"white\", \"zerolinewidth\": 2}}}},\n",
       "                        {\"responsive\": true}\n",
       "                    ).then(function(){\n",
       "                            \n",
       "var gd = document.getElementById('f744e9b9-e102-418b-a111-7db0e564ecb1');\n",
       "var x = new MutationObserver(function (mutations, observer) {{\n",
       "        var display = window.getComputedStyle(gd).display;\n",
       "        if (!display || display === 'none') {{\n",
       "            console.log([gd, 'removed!']);\n",
       "            Plotly.purge(gd);\n",
       "            observer.disconnect();\n",
       "        }}\n",
       "}});\n",
       "\n",
       "// Listen for the removal of the full notebook cells\n",
       "var notebookContainer = gd.closest('#notebook-container');\n",
       "if (notebookContainer) {{\n",
       "    x.observe(notebookContainer, {childList: true});\n",
       "}}\n",
       "\n",
       "// Listen for the clearing of the current output cell\n",
       "var outputEl = gd.closest('.output');\n",
       "if (outputEl) {{\n",
       "    x.observe(outputEl, {childList: true});\n",
       "}}\n",
       "\n",
       "                        })\n",
       "                };\n",
       "                });\n",
       "            </script>\n",
       "        </div>"
      ]
     },
     "metadata": {},
     "output_type": "display_data"
    },
    {
     "data": {
      "application/javascript": [
       "\n",
       "            setTimeout(function() {\n",
       "                var nbb_cell_id = 19;\n",
       "                var nbb_unformatted_code = \"import plotly.graph_objects as go\\n\\ndef plot_sentiments():\\n    t = pd.DataFrame(tweet_df[\\\"analysis\\\"].value_counts()).reset_index().rename(columns={\\\"index\\\": \\\"sentiment\\\"})\\n    print(t)\\n    fig = go.Figure([go.Bar(x=t[\\\"sentiment\\\"], y=t[\\\"analysis\\\"])])\\n    # st.bar_chart(t)\\n    fig.show()\\n\\nsenti_img=plot_sentiments()\";\n",
       "                var nbb_formatted_code = \"import plotly.graph_objects as go\\n\\n\\ndef plot_sentiments():\\n    t = (\\n        pd.DataFrame(tweet_df[\\\"analysis\\\"].value_counts())\\n        .reset_index()\\n        .rename(columns={\\\"index\\\": \\\"sentiment\\\"})\\n    )\\n    print(t)\\n    fig = go.Figure([go.Bar(x=t[\\\"sentiment\\\"], y=t[\\\"analysis\\\"])])\\n    # st.bar_chart(t)\\n    fig.show()\\n\\n\\nsenti_img = plot_sentiments()\";\n",
       "                var nbb_cells = Jupyter.notebook.get_cells();\n",
       "                for (var i = 0; i < nbb_cells.length; ++i) {\n",
       "                    if (nbb_cells[i].input_prompt_number == nbb_cell_id) {\n",
       "                        if (nbb_cells[i].get_text() == nbb_unformatted_code) {\n",
       "                             nbb_cells[i].set_text(nbb_formatted_code);\n",
       "                        }\n",
       "                        break;\n",
       "                    }\n",
       "                }\n",
       "            }, 500);\n",
       "            "
      ],
      "text/plain": [
       "<IPython.core.display.Javascript object>"
      ]
     },
     "metadata": {},
     "output_type": "display_data"
    }
   ],
   "source": [
    "import plotly.graph_objects as go\n",
    "\n",
    "def plot_sentiments():\n",
    "    t = pd.DataFrame(tweet_df[\"analysis\"].value_counts()).reset_index().rename(columns={\"index\": \"sentiment\"})\n",
    "    print(t)\n",
    "    fig = go.Figure([go.Bar(x=t[\"sentiment\"], y=t[\"analysis\"])])\n",
    "    # st.bar_chart(t)\n",
    "    fig.show()\n",
    "\n",
    "senti_img=plot_sentiments()\n"
   ]
  },
  {
   "cell_type": "code",
   "execution_count": null,
   "metadata": {},
   "outputs": [],
   "source": [
    "\n"
   ]
  }
 ],
 "metadata": {
  "kernelspec": {
   "display_name": "twitter",
   "language": "python",
   "name": "twitter"
  },
  "language_info": {
   "codemirror_mode": {
    "name": "ipython",
    "version": 3
   },
   "file_extension": ".py",
   "mimetype": "text/x-python",
   "name": "python",
   "nbconvert_exporter": "python",
   "pygments_lexer": "ipython3",
   "version": "3.7.5"
  }
 },
 "nbformat": 4,
 "nbformat_minor": 2
}
