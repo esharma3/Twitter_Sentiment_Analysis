{
 "cells": [
  {
   "cell_type": "code",
   "execution_count": 1,
   "metadata": {},
   "outputs": [],
   "source": [
    "# importing dependencies here\n",
    "import tweepy"
   ]
  },
  {
   "cell_type": "code",
   "execution_count": 2,
   "metadata": {},
   "outputs": [],
   "source": [
    "# validating the credentials\n",
    "consumer_key = \"XXXXXXXXX\"\n",
    "consumer_secret = \"XXXXXXXXX\"\n",
    "access_token = \"XXXXXXXXX\"\n",
    "access_token_secret = \"XXXXXXXXX\""
   ]
  },
  {
   "cell_type": "code",
   "execution_count": 3,
   "metadata": {},
   "outputs": [],
   "source": [
    "# creating the authentication object, setting access token and creating the api object\n",
    "auth = tweepy.OAuthHandler(consumer_key, consumer_secret)\n",
    "auth.set_access_token(access_token, access_token_secret)\n",
    "api = tweepy.API(auth,wait_on_rate_limit=True)"
   ]
  },
  {
   "cell_type": "code",
   "execution_count": null,
   "metadata": {},
   "outputs": [],
   "source": [
    "# reading the last 50 tweets\n",
    "\n",
    "tweets = []\n",
    "username = 'itsssr'\n",
    "tweet_count = 50\n",
    "\n",
    "# accessing last 50 tweets one at a time and adding them to a list\n",
    "try:\n",
    "    for tweet in api.user_timeline(id=username, count=tweet_count):\n",
    "        tweets.append((tweet.created_at,tweet.id,tweet.text))\n",
    "        print(tweet.user.profile_image_url)\n",
    "except BaseException as e:\n",
    "    print(\"Failed to retrieve the tweet.\", str(e))\n",
    "    time.sleep(3)"
   ]
  }
 ],
 "metadata": {
  "kernelspec": {
   "display_name": "twitter",
   "language": "python",
   "name": "twitter"
  },
  "language_info": {
   "codemirror_mode": {
    "name": "ipython",
    "version": 3
   },
   "file_extension": ".py",
   "mimetype": "text/x-python",
   "name": "python",
   "nbconvert_exporter": "python",
   "pygments_lexer": "ipython3",
   "version": "3.7.5"
  }
 },
 "nbformat": 4,
 "nbformat_minor": 2
}
